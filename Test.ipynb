{
 "cells": [
  {
   "cell_type": "code",
   "execution_count": null,
   "id": "3f5e570d",
   "metadata": {},
   "outputs": [],
   "source": [
    "# n=int(input())\n",
    "# m=input()\n",
    "\n",
    "\n",
    "\n",
    "# lst=m.split(\" \")\n",
    "\n",
    "# # print(type(lst[0]))\n",
    "\n",
    "\n",
    "# for i in range(len(lst)):\n",
    "#     if int(lst[i])>=85:\n",
    "#         print(\"Beep\")\n",
    "#     else:\n",
    "#         print(\"Enter\")"
   ]
  },
  {
   "cell_type": "code",
   "execution_count": null,
   "id": "a4ce453c",
   "metadata": {},
   "outputs": [],
   "source": [
    "n=int(input())\n",
    "m=input()\n",
    "\n",
    "\n",
    "\n",
    "lst=m.split(\" \")\n",
    "\n",
    "# print(type(lst[0]))\n",
    "m=len(lst)-1\n",
    "i=0\n",
    "if n<=1:\n",
    "    print(-1)\n",
    "else:\n",
    "    while m>0:\n",
    "\n",
    "\n",
    "        if int(lst[i])==2 and i<len(lst):\n",
    "            print(lst[i+1])\n",
    "            break\n",
    "        i+=1\n",
    "        m-=1\n",
    "        if i==len(lst)-1 and lst[i]!=2:\n",
    "            print(-1)\n",
    "\n"
   ]
  },
  {
   "cell_type": "code",
   "execution_count": null,
   "id": "881b6523",
   "metadata": {},
   "outputs": [],
   "source": [
    "# n=int(input())\n",
    "# r=n%60\n",
    "# q=n//60\n",
    "# if q==1:\n",
    "#     print(f\"{q}hr {r}mins\")\n",
    "# else:\n",
    "#     print(f\"{q}hrs {r}mins\")"
   ]
  },
  {
   "cell_type": "code",
   "execution_count": null,
   "id": "70454a27",
   "metadata": {},
   "outputs": [],
   "source": [
    "pip install numpy"
   ]
  },
  {
   "cell_type": "code",
   "execution_count": null,
   "id": "c0ae3816",
   "metadata": {},
   "outputs": [],
   "source": [
    "import numpy as np"
   ]
  },
  {
   "cell_type": "code",
   "execution_count": null,
   "id": "0967f2ff",
   "metadata": {},
   "outputs": [],
   "source": [
    "# n=input()\n",
    "# m=input()\n",
    "# lst1=n.split(' ')\n",
    "# lst2=m.split(' ')\n",
    "# # print(lst1)\n",
    "# # print(lst2)\n",
    "\n",
    "# A=np.array(lst1,dtype=int)\n",
    "# B=np.array(lst2,dtype=int)\n",
    "\n",
    "# print(np.inner(A,B))\n",
    "# print(np.outer(A,B))"
   ]
  },
  {
   "cell_type": "code",
   "execution_count": 5,
   "id": "414ccbd5",
   "metadata": {},
   "outputs": [
    {
     "name": "stdout",
     "output_type": "stream",
     "text": [
      "2 2\n",
      "1 2\n",
      "3 4\n",
      "[1.5 3.5]\n",
      "[1. 1.]\n",
      "1.118033988749895\n"
     ]
    }
   ],
   "source": [
    "import numpy as np\n",
    "inp=input()\n",
    "inplst=inp.split(' ')\n",
    "n,m=int(inplst[0]),int(inplst[1])\n",
    "b=[]\n",
    "for i in range(n):\n",
    "    a=input()\n",
    "    lst=a.split(' ')\n",
    "    b.append(lst)\n",
    "    \n",
    "c=np.array([i for i in b],dtype=int)\n",
    "# print(type(c))\n",
    "# print(c)\n",
    "\n",
    "\n",
    "print(np.mean(c,axis=1))\n",
    "print(np.var(c,axis=0))\n",
    "print(np.std(c,axis=None))\n"
   ]
  },
  {
   "cell_type": "code",
   "execution_count": null,
   "id": "e5b2c9f4",
   "metadata": {},
   "outputs": [],
   "source": []
  }
 ],
 "metadata": {
  "kernelspec": {
   "display_name": "Python 3 (ipykernel)",
   "language": "python",
   "name": "python3"
  },
  "language_info": {
   "codemirror_mode": {
    "name": "ipython",
    "version": 3
   },
   "file_extension": ".py",
   "mimetype": "text/x-python",
   "name": "python",
   "nbconvert_exporter": "python",
   "pygments_lexer": "ipython3",
   "version": "3.9.7"
  }
 },
 "nbformat": 4,
 "nbformat_minor": 5
}
