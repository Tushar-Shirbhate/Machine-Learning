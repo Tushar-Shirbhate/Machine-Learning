{
 "cells": [
  {
   "cell_type": "code",
   "execution_count": 1,
   "id": "e3801829",
   "metadata": {},
   "outputs": [],
   "source": [
    "#Secant Method\n",
    "#24-04-2022\n",
    "#equation-x***3-5*x-7\n",
    "def f(x):\n",
    "    return x**3 - 5*x - 7\n",
    "def secant(x0, x1, f):\n",
    "    x2 =1\n",
    "    while abs(f(x2)) > 0.0001:\n",
    "        if f(x0) == f(x1):\n",
    "            return \"Divide by zero error\"\n",
    "        else:\n",
    "            x2=(x0*f(x1)-x1*f(x0)) / (f(x1)-f(x0))\n",
    "            x0, x1 = x1, x2\n",
    "        return x2\n",
    "    x0 = 1\n",
    "    x1 = 2\n",
    "    print(\"final root\", secant(x0, x1, f))"
   ]
  },
  {
   "cell_type": "code",
   "execution_count": null,
   "id": "79dabc3e",
   "metadata": {},
   "outputs": [],
   "source": []
  }
 ],
 "metadata": {
  "kernelspec": {
   "display_name": "Python 3 (ipykernel)",
   "language": "python",
   "name": "python3"
  },
  "language_info": {
   "codemirror_mode": {
    "name": "ipython",
    "version": 3
   },
   "file_extension": ".py",
   "mimetype": "text/x-python",
   "name": "python",
   "nbconvert_exporter": "python",
   "pygments_lexer": "ipython3",
   "version": "3.9.7"
  }
 },
 "nbformat": 4,
 "nbformat_minor": 5
}
